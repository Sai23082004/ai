{
 "cells": [
  {
   "cell_type": "code",
   "execution_count": 3,
   "id": "f1b24474",
   "metadata": {},
   "outputs": [
    {
     "name": "stdout",
     "output_type": "stream",
     "text": [
      "Alpha-Beta Pruning: -inf\n"
     ]
    }
   ],
   "source": [
    "def alphabeta(node, depth, alpha, beta, maximizing, values):\n",
    "    n_leaves = len(values)\n",
    "\n",
    "    # Base case: reached leaf depth\n",
    "    if depth == 0:\n",
    "        return values[node]\n",
    "\n",
    "    if maximizing:\n",
    "        v = float('-inf')\n",
    "        for i in range(2):  # two children\n",
    "            child = node * 2 + i + 1\n",
    "            if child < n_leaves:  # ensure within bounds\n",
    "                v = max(v, alphabeta(child, depth - 1, alpha, beta, False, values))\n",
    "                alpha = max(alpha, v)\n",
    "                if beta <= alpha:  # prune\n",
    "                    break\n",
    "        return v\n",
    "    else:\n",
    "        v = float('inf')\n",
    "        for i in range(2):\n",
    "            child = node * 2 + i + 1\n",
    "            if child < n_leaves:\n",
    "                v = min(v, alphabeta(child, depth - 1, alpha, beta, True, values))\n",
    "                beta = min(beta, v)\n",
    "                if beta <= alpha:  # prune\n",
    "                    break\n",
    "        return v\n",
    "\n",
    "\n",
    "# Example: depth=3 binary tree (2^3 = 8 leaf nodes)\n",
    "values = [3, 5, 6, 9, 1, 2, 0, -1]\n",
    "print(\"Alpha-Beta Pruning:\", alphabeta(0, 3, float('-inf'), float('inf'), True, values))\n"
   ]
  }
 ],
 "metadata": {
  "kernelspec": {
   "display_name": "Python 3",
   "language": "python",
   "name": "python3"
  },
  "language_info": {
   "codemirror_mode": {
    "name": "ipython",
    "version": 3
   },
   "file_extension": ".py",
   "mimetype": "text/x-python",
   "name": "python",
   "nbconvert_exporter": "python",
   "pygments_lexer": "ipython3",
   "version": "3.12.0"
  }
 },
 "nbformat": 4,
 "nbformat_minor": 5
}
