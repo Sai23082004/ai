{
 "cells": [
  {
   "cell_type": "code",
   "execution_count": null,
   "id": "f914b4d4",
   "metadata": {},
   "outputs": [],
   "source": [
    "def is_safe(board, row, col):\n",
    "    # Check previous columns\n",
    "    for i in range(col):\n",
    "        if board[i] == row or abs(board[i] - row) == abs(i - col):\n",
    "            return False\n",
    "    return True\n",
    "\n",
    "def solve(board, col, n, solutions):\n",
    "    if col == n:   # All queens placed\n",
    "        solutions.append(board[:])  # store a copy\n",
    "        return True\n",
    "    \n",
    "    res = False\n",
    "    for i in range(n):\n",
    "        if is_safe(board, i, col):\n",
    "            board[col] = i\n",
    "            res = solve(board, col + 1, n, solutions) or res\n",
    "    return res\n",
    "\n",
    "def print_board(solution):\n",
    "    n = len(solution)\n",
    "    for row in range(n):\n",
    "        line = \"\"\n",
    "        for col in range(n):\n",
    "            if solution[col] == row:\n",
    "                line += \" Q \"\n",
    "            else:\n",
    "                line += \" . \"\n",
    "        print(line)\n",
    "    print(\"\\n\")  # blank line between solutions\n",
    "\n",
    "def eight_queens():\n",
    "    N = 8\n",
    "    board = [-1] * N\n",
    "    solutions = []\n",
    "    solve(board, 0, N, solutions)\n",
    "    \n",
    "    # Print all solutions visually\n",
    "    for idx, sol in enumerate(solutions, 1):\n",
    "        print(f\"Solution {idx}: {sol}\")\n",
    "        print_board(sol)\n",
    "    \n",
    "    print(f\"\\nTotal solutions for 8-Queens: {len(solutions)}\")\n",
    "\n",
    "# Run\n",
    "eight_queens()"
   ]
  }
 ],
 "metadata": {
  "language_info": {
   "name": "python"
  }
 },
 "nbformat": 4,
 "nbformat_minor": 5
}
