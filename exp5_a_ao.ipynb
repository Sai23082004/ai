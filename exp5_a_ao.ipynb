{
 "cells": [
  {
   "cell_type": "code",
   "execution_count": 1,
   "id": "4f2ddbdf",
   "metadata": {},
   "outputs": [
    {
     "name": "stdout",
     "output_type": "stream",
     "text": [
      "A* Path: A -> C -> E\n",
      "Total Cost: 6\n"
     ]
    }
   ],
   "source": [
    "from queue import PriorityQueue\n",
    "\n",
    "def a_star(graph, heuristics, start, goal):\n",
    "    pq = PriorityQueue()\n",
    "    pq.put((0 + heuristics[start], 0, start, [start]))  # (f = g+h, g, current, path)\n",
    "\n",
    "    while not pq.empty():\n",
    "        f, g, node, path = pq.get()\n",
    "\n",
    "        if node == goal:\n",
    "            print(\"A* Path:\", \" -> \".join(path))\n",
    "            print(\"Total Cost:\", g)\n",
    "            return\n",
    "\n",
    "        for neighbor, cost in graph[node]:\n",
    "            new_g = g + cost\n",
    "            new_f = new_g + heuristics[neighbor]\n",
    "            pq.put((new_f, new_g, neighbor, path + [neighbor]))\n",
    "\n",
    "# Example graph and heuristics\n",
    "graph = {\n",
    "    'A': [('B', 1), ('C', 4)],\n",
    "    'B': [('C', 3), ('D', 1)],\n",
    "    'C': [('E', 2)],\n",
    "    'D': [('E', 1)],\n",
    "    'E': []\n",
    "}\n",
    "\n",
    "heuristics = {\n",
    "    'A': 7,\n",
    "    'B': 6,\n",
    "    'C': 2,\n",
    "    'D': 1,\n",
    "    'E': 0\n",
    "}\n",
    "\n",
    "a_star(graph, heuristics, 'A', 'E')\n"
   ]
  }
 ],
 "metadata": {
  "kernelspec": {
   "display_name": "Python 3",
   "language": "python",
   "name": "python3"
  },
  "language_info": {
   "codemirror_mode": {
    "name": "ipython",
    "version": 3
   },
   "file_extension": ".py",
   "mimetype": "text/x-python",
   "name": "python",
   "nbconvert_exporter": "python",
   "pygments_lexer": "ipython3",
   "version": "3.12.0"
  }
 },
 "nbformat": 4,
 "nbformat_minor": 5
}
