{
 "cells": [
  {
   "cell_type": "code",
   "execution_count": 1,
   "id": "949d4600",
   "metadata": {},
   "outputs": [
    {
     "name": "stdout",
     "output_type": "stream",
     "text": [
      "Facts: {'bird(tweety)', 'cat(sylvester)', 'fish(nemo)'}\n",
      "Inferred: {'canfly(tweety)'}\n"
     ]
    }
   ],
   "source": [
    "facts = {\"bird(tweety)\", \"cat(sylvester)\", \"fish(nemo)\"}\n",
    "rules = {\"bird(X) -> canfly(X)\"}\n",
    "\n",
    "def infer(facts, rules):\n",
    "    derived=set()\n",
    "    for r in rules:\n",
    "        lhs,rhs=r.split(\"->\")\n",
    "        lhs=lhs.strip(); rhs=rhs.strip()\n",
    "        pred,arg=lhs[:-1].split(\"(\")\n",
    "        for f in facts:\n",
    "            if f.startswith(pred):\n",
    "                derived.add(rhs.replace(\"X\", f[f.index(\"(\")+1:-1]))\n",
    "    return derived\n",
    "\n",
    "print(\"Facts:\", facts)\n",
    "print(\"Inferred:\", infer(facts, rules))"
   ]
  }
 ],
 "metadata": {
  "kernelspec": {
   "display_name": "Python 3",
   "language": "python",
   "name": "python3"
  },
  "language_info": {
   "codemirror_mode": {
    "name": "ipython",
    "version": 3
   },
   "file_extension": ".py",
   "mimetype": "text/x-python",
   "name": "python",
   "nbconvert_exporter": "python",
   "pygments_lexer": "ipython3",
   "version": "3.12.0"
  }
 },
 "nbformat": 4,
 "nbformat_minor": 5
}
