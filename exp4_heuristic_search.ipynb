{
 "cells": [
  {
   "cell_type": "code",
   "execution_count": null,
   "id": "7894c858",
   "metadata": {},
   "outputs": [
    {
     "name": "stdout",
     "output_type": "stream",
     "text": [
      "Goal reached: F\n",
      "Path found: ['A', 'C', 'E', 'F']\n"
     ]
    }
   ],
   "source": [
    "import heapq\n",
    "\n",
    "class Graph:\n",
    "    def __init__(self):\n",
    "        self.edges = {} \n",
    "        self.h = {}      \n",
    "\n",
    "    def add_edge(self, from_node, to_node, cost):\n",
    "        self.edges.setdefault(from_node, []).append((to_node, cost))\n",
    "        self.edges.setdefault(to_node, []).append((from_node, cost)) \n",
    "\n",
    "    def set_heuristic(self, node, value):\n",
    "        self.h[node] = value\n",
    "\n",
    "    def best_first_search(self, start, goal):\n",
    "        visited = set()\n",
    "        priority_queue = [(self.h[start], start)]  \n",
    "        path = []\n",
    "\n",
    "        while priority_queue:\n",
    "            _, current = heapq.heappop(priority_queue)\n",
    "            path.append(current)\n",
    "\n",
    "            if current == goal:\n",
    "                print(\"Goal reached:\", goal)\n",
    "                return path\n",
    "\n",
    "            visited.add(current)\n",
    "\n",
    "            for neighbor, _ in self.edges.get(current, []):\n",
    "                if neighbor not in visited:\n",
    "                    heapq.heappush(priority_queue, (self.h[neighbor], neighbor))\n",
    "\n",
    "        return None\n",
    "\n",
    "# Create the graph\n",
    "g = Graph()\n",
    "\n",
    "# Add edges (from, to, cost)\n",
    "g.add_edge('A', 'B', 1)\n",
    "g.add_edge('A', 'C', 3)\n",
    "g.add_edge('B', 'D', 4)\n",
    "g.add_edge('C', 'D', 1)\n",
    "g.add_edge('C', 'E', 6)\n",
    "g.add_edge('D', 'F', 2)\n",
    "g.add_edge('E', 'F', 1)\n",
    "\n",
    "# Set heuristic values (h(n))\n",
    "g.set_heuristic('A', 6)\n",
    "g.set_heuristic('B', 5)\n",
    "g.set_heuristic('C', 4)\n",
    "g.set_heuristic('D', 3)\n",
    "g.set_heuristic('E', 2)\n",
    "g.set_heuristic('F', 0)\n",
    "\n",
    "# Perform Heuristic Search from A to F\n",
    "result = g.best_first_search('A', 'F')\n",
    "print(\"Path found:\", result)\n"
   ]
  }
 ],
 "metadata": {
  "kernelspec": {
   "display_name": "Python 3",
   "language": "python",
   "name": "python3"
  },
  "language_info": {
   "codemirror_mode": {
    "name": "ipython",
    "version": 3
   },
   "file_extension": ".py",
   "mimetype": "text/x-python",
   "name": "python",
   "nbconvert_exporter": "python",
   "pygments_lexer": "ipython3",
   "version": "3.12.0"
  }
 },
 "nbformat": 4,
 "nbformat_minor": 5
}
