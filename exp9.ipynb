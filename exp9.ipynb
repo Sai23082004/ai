{
 "cells": [
  {
   "cell_type": "code",
   "execution_count": 3,
   "id": "607d76ed",
   "metadata": {},
   "outputs": [
    {
     "name": "stdout",
     "output_type": "stream",
     "text": [
      "Meeting scheduled on: Tue at 10AM, Room-101\n"
     ]
    }
   ],
   "source": [
    "people = {\n",
    "    \"A\": [\"Mon\", \"Tue\"],\n",
    "    \"B\": [\"Tue\", \"Wed\"],\n",
    "    \"C\": [\"Tue\", \"Thu\"],\n",
    "    \"D\": [\"Tue\", \"Fri\"],\n",
    "    \"E\": [\"Tue\", \"Sat\"]\n",
    "}\n",
    "\n",
    "# Start with the set of the first person's days\n",
    "common = set(next(iter(people.values())))\n",
    "\n",
    "# Intersect with everyone's availability\n",
    "for days in people.values():\n",
    "    common &= set(days)\n",
    "\n",
    "if common:\n",
    "    print(\"Meeting scheduled on:\", \", \".join(common), \"at 10AM, Room-101\")\n",
    "else:\n",
    "    print(\"No common day available for the meeting.\")\n",
    "\n",
    "\n",
    "\n"
   ]
  }
 ],
 "metadata": {
  "kernelspec": {
   "display_name": "Python 3",
   "language": "python",
   "name": "python3"
  },
  "language_info": {
   "codemirror_mode": {
    "name": "ipython",
    "version": 3
   },
   "file_extension": ".py",
   "mimetype": "text/x-python",
   "name": "python",
   "nbconvert_exporter": "python",
   "pygments_lexer": "ipython3",
   "version": "3.12.0"
  }
 },
 "nbformat": 4,
 "nbformat_minor": 5
}
