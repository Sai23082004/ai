{
 "cells": [
  {
   "cell_type": "code",
   "execution_count": 3,
   "id": "6643f25f",
   "metadata": {},
   "outputs": [
    {
     "name": "stdout",
     "output_type": "stream",
     "text": [
      "Solution: [(1, 2, 3, 4, 0, 5, 6, 7, 8), (1, 2, 3, 4, 5, 0, 6, 7, 8), (1, 2, 3, 4, 5, 6, 0, 7, 8), (1, 2, 3, 4, 5, 6, 7, 0, 8), (1, 2, 3, 4, 5, 6, 7, 8, 0)]\n"
     ]
    }
   ],
   "source": [
    "\n",
    "import heapq\n",
    "\n",
    "def h(state, goal):\n",
    "    return sum(s!=g for s,g in zip(state,goal))\n",
    "\n",
    "def astar(start, goal):\n",
    "    pq=[(h(start,goal),0,start,[])]\n",
    "    visited=set()\n",
    "    while pq:\n",
    "        f,g,state,path=heapq.heappop(pq)\n",
    "        if state==goal:\n",
    "            print(\"Solution:\", path+[state])\n",
    "            return\n",
    "        visited.add(state)\n",
    "        zero=state.index(0)\n",
    "        moves=[-1,1,-3,3]\n",
    "        for m in moves:\n",
    "            new=zero+m\n",
    "            if 0<=new<9:\n",
    "                s=list(state); s[zero],s[new]=s[new],s[zero]\n",
    "                tup=tuple(s)\n",
    "                if tup not in visited:\n",
    "                    heapq.heappush(pq,(g+1+h(tup,goal),g+1,tup,path+[state]))\n",
    "\n",
    "start=(1,2,3,4,0,5,6,7,8)\n",
    "goal=(1,2,3,4,5,6,7,8,0)\n",
    "astar(start,goal)"
   ]
  },
  {
   "cell_type": "code",
   "execution_count": null,
   "id": "21af4438",
   "metadata": {},
   "outputs": [],
   "source": [
    "\n",
    "import heapq\n",
    "\n",
    "def h(state, goal):\n",
    "    return sum(s!=g for s,g in zip(state,goal))\n",
    "\n",
    "def astar(start, goal):\n",
    "    pq=[(h(start,goal),0,start,[])]\n",
    "    visited=set()\n",
    "    while pq:\n",
    "        f,g,state,path=heapq.heappop(pq)\n",
    "        if state==goal:\n",
    "            print(\"Solution:\", path+[state])\n",
    "            return\n",
    "        visited.add(state)\n",
    "        zero=state.index(0)\n",
    "        moves=[-1,1,-3,3]\n",
    "        for m in moves:\n",
    "            new=zero+m\n",
    "            if 0<=new<9:\n",
    "                s=list(state); s[zero],s[new]=s[new],s[zero]\n",
    "                tup=tuple(s)\n",
    "                if tup not in visited:\n",
    "                    heapq.heappush(pq,(g+1+h(tup,goal),g+1,tup,path+[state]))\n",
    "\n",
    "start=(1,2,3,4,0,5,6,7,8)\n",
    "goal=(1,2,3,4,5,6,7,8,0)\n",
    "astar(start,goal)"
   ]
  }
 ],
 "metadata": {
  "kernelspec": {
   "display_name": "Python 3",
   "language": "python",
   "name": "python3"
  },
  "language_info": {
   "codemirror_mode": {
    "name": "ipython",
    "version": 3
   },
   "file_extension": ".py",
   "mimetype": "text/x-python",
   "name": "python",
   "nbconvert_exporter": "python",
   "pygments_lexer": "ipython3",
   "version": "3.12.0"
  }
 },
 "nbformat": 4,
 "nbformat_minor": 5
}
