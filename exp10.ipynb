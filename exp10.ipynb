{
 "cells": [
  {
   "cell_type": "code",
   "execution_count": 1,
   "id": "b7027203",
   "metadata": {},
   "outputs": [
    {
     "name": "stdout",
     "output_type": "stream",
     "text": [
      "Unification: {'x': 'y'}\n"
     ]
    }
   ],
   "source": [
    "def unify(x,y,subs={}):\n",
    "    if subs is None: return None\n",
    "    elif x==y: return subs\n",
    "    elif isinstance(x,str) and x.islower():\n",
    "        return unify_var(x,y,subs)\n",
    "    elif isinstance(y,str) and y.islower():\n",
    "        return unify_var(y,x,subs)\n",
    "    elif isinstance(x,tuple) and isinstance(y,tuple) and len(x)==len(y):\n",
    "        for a,b in zip(x,y):\n",
    "            subs=unify(a,b,subs)\n",
    "            if subs is None: return None\n",
    "        return subs\n",
    "    else: return None\n",
    "\n",
    "def unify_var(var,x,subs):\n",
    "    if var in subs: return unify(subs[var],x,subs)\n",
    "    elif x in subs: return unify(var,subs[x],subs)\n",
    "    else:\n",
    "        subs2=subs.copy(); subs2[var]=x\n",
    "        return subs2\n",
    "\n",
    "print(\"Unification:\", unify(('P','x'),('P','y')))\n"
   ]
  }
 ],
 "metadata": {
  "kernelspec": {
   "display_name": "Python 3",
   "language": "python",
   "name": "python3"
  },
  "language_info": {
   "codemirror_mode": {
    "name": "ipython",
    "version": 3
   },
   "file_extension": ".py",
   "mimetype": "text/x-python",
   "name": "python",
   "nbconvert_exporter": "python",
   "pygments_lexer": "ipython3",
   "version": "3.12.0"
  }
 },
 "nbformat": 4,
 "nbformat_minor": 5
}
