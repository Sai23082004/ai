{
 "cells": [
  {
   "cell_type": "code",
   "execution_count": null,
   "id": "f1798da2",
   "metadata": {
    "vscode": {
     "languageId": "plaintext"
    }
   },
   "outputs": [],
   "source": [
    "import heapq\n",
    "\n",
    "# Define the graph as an adjacency list\n",
    "graph = {\n",
    "    'S': ['A', 'B'],\n",
    "    'A': ['C', 'D'],\n",
    "    'B': ['E'],\n",
    "    'C': [],\n",
    "    'D': ['G'],\n",
    "    'E': ['G'],\n",
    "    'G': []\n",
    "}\n",
    "\n",
    "# Heuristic values (lower is better; goal node G has 0)\n",
    "heuristics = {\n",
    "    'S': 5,\n",
    "    'A': 4,\n",
    "    'B': 6,\n",
    "    'C': 4,\n",
    "    'D': 2,\n",
    "    'E': 3,\n",
    "    'G': 0\n",
    "}\n",
    "\n",
    "def best_first_search(start, goal):\n",
    "    visited = set()\n",
    "    pq = []\n",
    "\n",
    "    # Push the start node into the priority queue (heuristic, node)\n",
    "    heapq.heappush(pq, (heuristics[start], start))\n",
    "\n",
    "    while pq:\n",
    "        h, current = heapq.heappop(pq)\n",
    "        print(\"Visiting Node:\", current)\n",
    "\n",
    "        if current == goal:\n",
    "            print(\"Goal Node Found!\")\n",
    "            return\n",
    "\n",
    "        if current not in visited:\n",
    "            visited.add(current)\n",
    "\n",
    "            for neighbor in graph[current]:\n",
    "                if neighbor not in visited:\n",
    "                    heapq.heappush(pq, (heuristics[neighbor], neighbor))\n",
    "\n",
    "    print(\"Goal Node Not Found.\")\n",
    "\n",
    "# Run the Best First Search from S to G\n",
    "best_first_search('S', 'G')\n"
   ]
  }
 ],
 "metadata": {
  "language_info": {
   "name": "python"
  }
 },
 "nbformat": 4,
 "nbformat_minor": 5
}
