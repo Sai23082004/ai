{
 "cells": [
  {
   "cell_type": "code",
   "execution_count": 2,
   "id": "eee3fd44",
   "metadata": {},
   "outputs": [
    {
     "name": "stdout",
     "output_type": "stream",
     "text": [
      "(0, 0)\n",
      "(0, 3)\n",
      "(3, 0)\n",
      "(3, 3)\n",
      "(4, 2)\n"
     ]
    }
   ],
   "source": [
    "def water_jug(x, y, target):\n",
    "    visited = set()\n",
    "    stack = [(0,0)]\n",
    "    while stack:\n",
    "        a, b = stack.pop()\n",
    "        if (a,b) in visited:\n",
    "            continue\n",
    "        print((a,b))\n",
    "        visited.add((a,b))\n",
    "        if a==target or b==target:\n",
    "            return\n",
    "        stack.extend([(x,b), (a,y), (0,b), (a,0),\n",
    "                      (min(x, a+b), max(0,a+b-x)),\n",
    "                      (max(0,a+b-y), min(y,a+b))])\n",
    "water_jug(4,3,2)\n",
    "\n",
    "\n",
    "\n",
    "\n"
   ]
  }
 ],
 "metadata": {
  "kernelspec": {
   "display_name": "Python 3",
   "language": "python",
   "name": "python3"
  },
  "language_info": {
   "codemirror_mode": {
    "name": "ipython",
    "version": 3
   },
   "file_extension": ".py",
   "mimetype": "text/x-python",
   "name": "python",
   "nbconvert_exporter": "python",
   "pygments_lexer": "ipython3",
   "version": "3.12.0"
  }
 },
 "nbformat": 4,
 "nbformat_minor": 5
}
